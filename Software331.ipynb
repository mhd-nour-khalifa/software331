{
  "nbformat": 4,
  "nbformat_minor": 0,
  "metadata": {
    "colab": {
      "provenance": []
    },
    "kernelspec": {
      "name": "python3",
      "display_name": "Python 3"
    },
    "language_info": {
      "name": "python"
    }
  },
  "cells": [
    {
      "cell_type": "code",
      "execution_count": null,
      "metadata": {
        "colab": {
          "base_uri": "https://localhost:8080/"
        },
        "id": "DAcv05xW_z3p",
        "outputId": "29be6a45-24c9-40a1-d412-4ba1329698a4"
      },
      "outputs": [
        {
          "output_type": "stream",
          "name": "stdout",
          "text": [
            "[]\n"
          ]
        }
      ],
      "source": [
        "#  \"\"\"\n",
        "#Stage : Development -01\n",
        "# 1:@author : Mhd Nour Khalifa , 120200127\n",
        "# 2:@author : Omar Al-Shareef, 119200019\n",
        "#  \"\"\"\n",
        "\n",
        "# check for an update on a web-page, and email the user\n",
        "\n",
        "import requests\n",
        "from bs4 import BeautifulSoup\n",
        "from pprint import pprint\n",
        "\n",
        "url = 'https://www.nytimes.com/section/science'\n",
        "data = requests.get(url)\n",
        "\n",
        "my_data = []\n",
        "\n",
        "html = BeautifulSoup(data.text, 'html.parser')#we import from BeatifulSoup to scrape the web\n",
        "articles = html.select('css-e1btbg e5qpt130')\n",
        "\n",
        "for article in articles:\n",
        "    title = article.select('css-13mho3u')[0].get_text()\n",
        "    excerpt = article.select('css-112uytv')[0].get_text()\n",
        "    pub_date = article.select('css-e0xall e15t083i3')[0].get_text()\n",
        "   \n",
        "    my_data.append({\"title\": title, \"pub_date\": pub_date})\n",
        "print(my_data)\n",
        "\n"
      ]
    }
  ]
}